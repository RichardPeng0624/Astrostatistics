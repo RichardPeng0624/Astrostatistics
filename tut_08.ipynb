{
 "cells": [
  {
   "cell_type": "markdown",
   "metadata": {},
   "source": [
    "**Tutorial 8 - Markov Chain Monte Carlo**\n",
    "\n",
    "In this tutorial we will learn how to construct a basic Metropolis-Hastings Markov Chain (MCMC) sampler and apply it to type Ia supernova data.\n",
    "\n",
    "We will use the same supernova data we used before.  There is a nonlinear relationship between redshift and distance modulus within the standard cosmological model.  In practice it would be better to solve this problem by a non-linear $\\chi^2$ fit because there are few parameters, but we will do it by MCMC as an exercises.  "
   ]
  },
  {
   "cell_type": "markdown",
   "metadata": {},
   "source": [
    " 1) Make a Metropolis-Hastings stepping function.\n",
    "\n",
    " The function should take the following inputs: \n",
    " x - a numpy vector giving the current position in parameter space\n",
    " \n",
    " loglike - the value of the log of the likelihood \n",
    "           evaluated at x\n",
    "           \n",
    " loglike_func() - a function that returns the log of the \n",
    "            likelihood given a position in parameters space\n",
    "            \n",
    " proposal_func() - a proposal function that takes a position in \n",
    "                  parameter space and returns another point\n",
    "\n",
    " The function should return the updated position, the updated \n",
    " loglike at that position and a Boolean that is True if the proposed step was \n",
    " accepted and False if it was not. \n",
    " You can assume the proposal function is symmetric, \n",
    "i.e. $q(x | y) = q(y | x)$\n",
    "\n",
    "Call the function MH_step()"
   ]
  },
  {
   "cell_type": "code",
   "execution_count": 507,
   "metadata": {},
   "outputs": [],
   "source": [
    "import numpy as np\n",
    "import matplotlib.pyplot as plt\n",
    "import pandas as pd\n",
    "import warnings"
   ]
  },
  {
   "cell_type": "code",
   "execution_count": 508,
   "metadata": {},
   "outputs": [],
   "source": [
    "def MH_step(p,loglike,loglike_func,proposal_func):\n",
    "    #Metropolis-Hastings Monte Carlo Step\n",
    "    p_new = proposal_func(p)\n",
    "    loglike_new = loglike_func(p_new)\n",
    "    \n",
    "    warnings.filterwarnings('ignore')\n",
    "    alpha = min(1, np.exp(loglike_new-loglike))\n",
    "    ran=np.random.uniform(0,1, size=1)\n",
    "    \n",
    "    if (alpha <=1 and alpha>ran):\n",
    "        return (p_new,loglike_new, True)\n",
    "    \n",
    "    elif (alpha <=1 and alpha<ran):\n",
    "        return (p, loglike, False)\n",
    "    \n",
    "    elif alpha == 1:\n",
    "        return (p_new, loglike_new, True)"
   ]
  },
  {
   "cell_type": "markdown",
   "metadata": {},
   "source": [
    "2) Now you must make a *class* for a Gaussian proposal function called \n",
    "\"gaussian_proposal_class\".  The class should have a constructor that takes the standard deviation of the proposal in each dimension.  This is done by defining a \\_\\_init\\_\\_ function within it.  You should be able to call an instance of this class like a function by defining a \\_\\_call\\_\\_ function."
   ]
  },
  {
   "cell_type": "code",
   "execution_count": 509,
   "metadata": {},
   "outputs": [
    {
     "name": "stdout",
     "output_type": "stream",
     "text": [
      "[19.78704849  0.4668257 ]\n"
     ]
    }
   ],
   "source": [
    "# Complete this code for a Gaussian proposal function class\n",
    "\n",
    "class gaussian_proposal_class :\n",
    "    ## This part is the constructor and \n",
    "    ## sets the internal information in the object\n",
    "    # that is declared with\n",
    "    # \"func = gaussian_proposal_function(sigma_vector)\"\n",
    "    def __init__(self, sigma_step):\n",
    "        self.n = len(sigma_step)\n",
    "        self.sigma_step = sigma_step\n",
    "        \n",
    "    ##  This part defines what happens when \n",
    "    ##  you do \"y = func(params)\"\n",
    "    ##  This should return a new point\n",
    "    def __call__(self,params):\n",
    "        x_t=params+self.sigma_step*np.random.normal(0, 1, size=self.n)\n",
    "        return (x_t)\n",
    "#\n",
    "# Once this class is defined:\n",
    "#\n",
    "# example of creating a instance of this class\n",
    "#gpf = gaussian_proposal_class(sigma)\n",
    "#\n",
    "# using it after it has been created\n",
    "#result = gpf(params)\n",
    "\n",
    "sigma=[1, 0.1]\n",
    "tes=gaussian_proposal_class(sigma)\n",
    "result=tes([20,0.2])\n",
    "print(result)"
   ]
  },
  {
   "cell_type": "code",
   "execution_count": 510,
   "metadata": {},
   "outputs": [],
   "source": [
    "# 3) Make a Gaussian likelihood class that stores the data and errors and \n",
    "# returns the log likelihood as a default function.\n",
    "\n",
    "class LogGaussianLikelihood :\n",
    "    def __init__(self,y_data,x_data,y_model,sigmas):\n",
    "#    \n",
    "#         Store the data, model and errors in the object.\n",
    "#         The function y_model(params,x_data) will return the \n",
    "#         predicted value for y to be compared to y_data for \n",
    "#         any input vectors params and x_data.  This does not \n",
    "#         need to be specified here.\n",
    "\n",
    "        self.y_data=y_data\n",
    "        self.x_data=x_data\n",
    "        self.y_model=y_model\n",
    "        self.sigmas=sigmas\n",
    "    \n",
    "    def __call__(self,params):\n",
    "        if (params[1]<0 or params[1]>1):\n",
    "            return -1.0e100\n",
    "        else:\n",
    "    #         params=[]?\n",
    "    #         This is the prior range on Omega matter\n",
    "    #        if(params[1] < 0 or params[1] > 1) return -1.0e100\n",
    "    #        \n",
    "    #        Using the stored data and model and the input parameters \n",
    "    #        to calculate the log of the Gaussian likelihood and return \n",
    "    #        its value.\n",
    "            dist=self.y_model(params, self.x_data)\n",
    "            #likeli=(1/(np.sqrt(2*np.pi)*self.sigmas[0]))*(np.exp(-(self.y_data[0]-dist[0])**2/(2*self.sigmas[0]**2)))\n",
    "            #for i in range(1,len(self.y_data)):\n",
    "            #    d_likeli=(1/(np.sqrt(2*np.pi)*self.sigmas[i]))*(np.exp(-(self.y_data[i]-dist[i])**2/(2*self.sigmas[i]**2)))\n",
    "            #    likeli=likeli*d_likeli\n",
    "            #loglike=np.log(likeli)\n",
    "            loglike = -0.5*np.sum(((self.y_data-dist)/self.sigmas)**2)\n",
    "        return(loglike)"
   ]
  },
  {
   "cell_type": "markdown",
   "metadata": {},
   "source": [
    "4) Write a function that returns the distance modulus with \n",
    "signature def mu_model(p,z). \n",
    "\n",
    "Where parameters p are:\n",
    "\n",
    "p[0] is the absolute magnitude normalization \n",
    "\n",
    "p[1] is omega_matter.\n",
    "\n",
    "z is the redshift.\n",
    "\n",
    "Use the library function \n",
    "astropy.cosmology.FlatLambdaCDM.luminosity_distance(z).value \n",
    "to calculate the luminosity distance.  This is a nonlinear function of the omega_matter.\n"
   ]
  },
  {
   "cell_type": "code",
   "execution_count": 511,
   "metadata": {},
   "outputs": [],
   "source": [
    "#from astropy.cosmology import FRW\n",
    "import astropy.cosmology as cosmo\n",
    "\n",
    "def mu_model(p,z):\n",
    "    cos = cosmo.FlatLambdaCDM(70,p[1])\n",
    "    D = 5*np.log10(cos.luminosity_distance(z).value) + p[0]\n",
    "    return D"
   ]
  },
  {
   "cell_type": "markdown",
   "metadata": {},
   "source": [
    "5) Read in the supernova data from SCPUnion2.1_mu_vs_z.txt and plot it."
   ]
  },
  {
   "cell_type": "code",
   "execution_count": 512,
   "metadata": {},
   "outputs": [
    {
     "data": {
      "image/png": "[encoded data removed]",
      "text/plain": [
       "<Figure size 432x288 with 1 Axes>"
      ]
     },
     "metadata": {
      "needs_background": "light"
     },
     "output_type": "display_data"
    }
   ],
   "source": [
    "data=pd.read_csv('./SCPUnion2_1_mu_vs_z.txt', comment='#', delimiter=\"\\t\")\n",
    "plt.errorbar(data.redshift, data.dist_mod, yerr=data.dist_mod_error, fmt='o', markersize=3, alpha=0.5)\n",
    "plt.xlabel('redshift')\n",
    "plt.ylabel('distance model')\n",
    "plt.show()"
   ]
  },
  {
   "cell_type": "markdown",
   "metadata": {
    "collapsed": true
   },
   "source": [
    " 6) Make an instance of LogGaussianLikelihood with the data.  Call it loglike_func\n",
    "\n",
    "Make an instance of gaussian_proposal_function\n",
    "\n",
    "Set up the initial point p[] and its log likelihood \n",
    " using  loglike_func(p)\n",
    "\n",
    "Make an MCMC loop 1000 steps or more long and make a scatter plot of  the chain.  Record the acceptance fraction.\n"
   ]
  },
  {
   "cell_type": "code",
   "execution_count": 513,
   "metadata": {
    "scrolled": true
   },
   "outputs": [
    {
     "name": "stdout",
     "output_type": "stream",
     "text": [
      "-43735.30088644715\n"
     ]
    },
    {
     "data": {
      "image/png": "[encoded data removed]",
      "text/plain": [
       "<Figure size 432x288 with 1 Axes>"
      ]
     },
     "metadata": {
      "needs_background": "light"
     },
     "output_type": "display_data"
    },
    {
     "name": "stdout",
     "output_type": "stream",
     "text": [
      "acceptance rate: 15.766666666666667\n"
     ]
    }
   ],
   "source": [
    "loglike_f = LogGaussianLikelihood (data.dist_mod, data.redshift, mu_model, data.dist_mod_error)\n",
    "prop_f = gaussian_proposal_class (np.array([0.03,0.05]))\n",
    "ini = np.array([23,0.6])\n",
    "\n",
    "ini_loglike= loglike_f(ini)\n",
    "print (ini_loglike)\n",
    "\n",
    "\n",
    "N=3000\n",
    "pos=np.zeros(shape=(N,2))\n",
    "log=np.zeros(shape=N)\n",
    "condition=np.zeros(shape=N)\n",
    "\n",
    "pos[0]=ini\n",
    "log[0]=ini_loglike\n",
    "for i in range(1,N):\n",
    "    pos[i], log[i], condition[i] = MH_step(pos[i-1],log[i-1],loglike_f, prop_f)\n",
    "\n",
    "pos_accept=pos[np.where(condition==True)]\n",
    "plt.scatter(pos_accept[:,0], pos_accept[:,1], s=5, alpha=0.3)\n",
    "plt.xlabel('absolute magnitude normalization')\n",
    "plt.ylabel('omega_matter')\n",
    "plt.show()\n",
    "\n",
    "print ('acceptance rate:', (len(pos_accept)/len(pos))*100)"
   ]
  },
  {
   "cell_type": "markdown",
   "metadata": {},
   "source": [
    "7) Make historgrams of the two parameters."
   ]
  },
  {
   "cell_type": "code",
   "execution_count": 514,
   "metadata": {},
   "outputs": [
    {
     "data": {
      "image/png": "[encoded data removed]",
      "text/plain": [
       "<Figure size 720x360 with 2 Axes>"
      ]
     },
     "metadata": {
      "needs_background": "light"
     },
     "output_type": "display_data"
    }
   ],
   "source": [
    "plt.figure(figsize=(10,5))\n",
    "\n",
    "ax1=plt.subplot(121)\n",
    "ax1.hist(pos_accept[:,0],bins=30, histtype='step', rwidth=1.5)\n",
    "plt.title('absolute magnitude normalization')\n",
    "\n",
    "ax2=plt.subplot(122)\n",
    "ax2.hist(pos_accept[:,1],bins=30, histtype='step', rwidth=1.5)\n",
    "plt.title('omega_matter')\n",
    "plt.show()"
   ]
  },
  {
   "cell_type": "markdown",
   "metadata": {},
   "source": [
    "8) Use plt.hist2d() to make a 2 dimensional histogram of the chain with labels."
   ]
  },
  {
   "cell_type": "code",
   "execution_count": 515,
   "metadata": {},
   "outputs": [
    {
     "data": {
      "image/png": "[encoded data removed]",
      "text/plain": [
       "<Figure size 864x288 with 3 Axes>"
      ]
     },
     "metadata": {
      "needs_background": "light"
     },
     "output_type": "display_data"
    }
   ],
   "source": [
    "plt.figure(figsize=(12,4))\n",
    "\n",
    "ax1=plt.subplot(131)\n",
    "plt.hist2d(pos_accept[:,0], pos_accept[:,1], bins=20, range=[[24.94, 25.05],[0.15,0.38]])\n",
    "plt.xlabel('absolute magnitude normalization')\n",
    "plt.ylabel('omega_matter')\n",
    "\n",
    "ax2=plt.subplot(132)\n",
    "plt.hist(pos_accept[:,0], bins= 20, histtype='step', rwidth=1.5, range=[24.97, 25.02])\n",
    "plt.xlabel('absolute magnitude normalization')\n",
    "plt.ylabel('counts')\n",
    "\n",
    "ax3=plt.subplot(133)\n",
    "plt.hist(pos_accept[:,1], bins= 20, histtype='step', rwidth=1.5, range=[0.2, 0.35])\n",
    "plt.xlabel('omega_matter')\n",
    "plt.ylabel('counts')\n",
    "\n",
    "plt.subplots_adjust(wspace=0.3)\n",
    "plt.show()"
   ]
  },
  {
   "cell_type": "markdown",
   "metadata": {},
   "source": [
    " 9) I have written a function with just a few lines missing that returns the cross-correlation function between two vectors with lag m.\n",
    " \n",
    " Use this function to estimate the correlation length \n",
    " of your chain. Plot the auto-correlation function for \n",
    " lags of zero to a few hundred.\n",
    " \n",
    " What is the correlation length of your chain?"
   ]
  },
  {
   "cell_type": "code",
   "execution_count": 516,
   "metadata": {},
   "outputs": [],
   "source": [
    "def corrfunction(x,y):\n",
    "    '''\n",
    "    This function calculates the correlation coefficient \n",
    "    as a function of lag between \n",
    "    '''\n",
    "    xc = x - np.mean(x)\n",
    "    yc = y - np.mean(y)\n",
    "    \n",
    "    N = len(x)\n",
    "    out = np.empty(N-2)\n",
    "    stdx = np.std(xc)\n",
    "    stdy = np.std(yc)\n",
    "\n",
    "    for i in range(N-2) :\n",
    "        xt = xc[0:N-i]\n",
    "        yt = yc[i:N]\n",
    "        if(stdx == 0 or stdy == 0):  ## this can happen for last elements\n",
    "            out[i] = 0\n",
    "        else :\n",
    "            out[i] = np.mean(xt*yt)\n",
    "\n",
    "    out /= (stdx*stdy)\n",
    "    return out"
   ]
  },
  {
   "cell_type": "code",
   "execution_count": 517,
   "metadata": {},
   "outputs": [
    {
     "data": {
      "image/png": "[encoded data removed]",
      "text/plain": [
       "<Figure size 432x288 with 1 Axes>"
      ]
     },
     "metadata": {
      "needs_background": "light"
     },
     "output_type": "display_data"
    }
   ],
   "source": [
    "output_01=corrfunction(pos_accept[:,0], pos_accept[:,1])\n",
    "output_00=corrfunction(pos_accept[:,0], pos_accept[:,0])\n",
    "output_11=corrfunction(pos_accept[:,1], pos_accept[:,1])\n",
    "\n",
    "lag=np.arange(0, len(pos_accept)-2)\n",
    "plt.plot(lag, output_00, label='cross correlation')\n",
    "plt.plot(lag, output_01, label='auto correlation of magnitude')\n",
    "plt.plot(lag, output_11, label='auto correlation of omega')\n",
    "\n",
    "plt.hlines(y=0.0, xmin=0, xmax=len(pos_accept)-2, linestyles='--', colors='gray')\n",
    "\n",
    "plt.legend()\n",
    "plt.show()"
   ]
  },
  {
   "cell_type": "markdown",
   "metadata": {},
   "source": [
    "10) Calculate the mean, variance and normalized covariance of the parameters.  For a flat universe, $\\Omega_m + \\Omega_\\Lambda = 1$ where $\\Omega_\\Lambda$ is the density of the cosmological constant.  What are the mean value and \"1 sigma\" error bars on  $\\Omega_\\Lambda$."
   ]
  },
  {
   "cell_type": "code",
   "execution_count": 518,
   "metadata": {},
   "outputs": [
    {
     "name": "stdout",
     "output_type": "stream",
     "text": [
      "covariance matrix:\n",
      " [[0.20860273 0.00920873]\n",
      " [0.00920873 0.00921694]]\n",
      "normalized covariance matrix: \n",
      " [[1.         0.21001309]\n",
      " [0.21001309 1.        ]]\n",
      "-----\n",
      "variance of omega_matter: 0.009216941048660639\n",
      "variance of absolute magnitude 0.20860272840964308\n",
      "-----\n",
      "mean with 1sigma error  of omega_matter: 0.25053083211381083 +- 0.09600490116999569\n",
      "mean with 1sigma error  of absolute magnitude: 24.81534806941812 +- 0.4567304767690055\n"
     ]
    }
   ],
   "source": [
    "cov=np.cov(pos_accept[:,0], pos_accept[:,1])\n",
    "\n",
    "def rho(mat=np.mat([])):\n",
    "    dia_sqrt=np.sqrt(np.diagonal(mat))\n",
    "    rho=(mat/np.outer(dia_sqrt, dia_sqrt))\n",
    "    return (rho)\n",
    "\n",
    "cov_norm=rho(cov)\n",
    "\n",
    "print('covariance matrix:\\n', cov)\n",
    "print('normalized covariance matrix: \\n', cov_norm)\n",
    "print('-----')\n",
    "print('variance of omega_matter:', cov[1][1])\n",
    "print('variance of absolute magnitude', cov[0][0])\n",
    "print('-----')\n",
    "print('mean with 1sigma error  of omega_matter:', np.mean(pos_accept[:,1]), '+-', np.sqrt(cov[1][1]))\n",
    "print('mean with 1sigma error  of absolute magnitude:', np.mean(pos_accept[:,0]),'+-', np.sqrt(cov[0][0]))"
   ]
  },
  {
   "cell_type": "code",
   "execution_count": null,
   "metadata": {},
   "outputs": [],
   "source": []
  }
 ],
 "metadata": {
  "kernelspec": {
   "display_name": "Python 3",
   "language": "python",
   "name": "python3"
  },
  "language_info": {
   "codemirror_mode": {
    "name": "ipython",
    "version": 3
   },
   "file_extension": ".py",
   "mimetype": "text/x-python",
   "name": "python",
   "nbconvert_exporter": "python",
   "pygments_lexer": "ipython3",
   "version": "3.8.10"
  }
 },
 "nbformat": 4,
 "nbformat_minor": 2
}
